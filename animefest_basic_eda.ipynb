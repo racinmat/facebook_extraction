{
 "cells": [
  {
   "cell_type": "code",
   "execution_count": 1,
   "metadata": {},
   "outputs": [
    {
     "name": "stdout",
     "output_type": "stream",
     "text": [
      "2019-05-09 00:47:21,220 - Loaded backend module://ipykernel.pylab.backend_inline version unknown.\n"
     ]
    }
   ],
   "source": [
    "import numpy as np\n",
    "import pandas as pd\n",
    "import matplotlib.pyplot as plt\n",
    "import seaborn as sns\n",
    "import os.path as osp\n",
    "from data_to_csv import *\n",
    "import utils\n",
    "import logging"
   ]
  },
  {
   "cell_type": "code",
   "execution_count": 2,
   "metadata": {},
   "outputs": [],
   "source": [
    "logging.getLogger('matplotlib').setLevel(logging.WARNING)"
   ]
  },
  {
   "cell_type": "code",
   "execution_count": 3,
   "metadata": {},
   "outputs": [],
   "source": [
    "sns.set()\n",
    "\n",
    "conf = {\n",
    "    'font.size': 14.0,\n",
    "    'axes.grid': True,\n",
    "    'axes.axisbelow': True,\n",
    "    'axes.edgecolor': 'black',\n",
    "    'axes.facecolor': '#E5E5EF',\n",
    "#    'axes.facecolor': '#E0E0EF',\n",
    "    'axes.labelcolor': 'black',\n",
    "    'axes.titlesize': 15.6,\n",
    "    'axes.labelsize': 'large',    \n",
    "    'figure.figsize': (12, 7),\n",
    "    'figure.titlesize': 'x-large',\n",
    "    'grid.linewidth': 1.3,\n",
    "    'xtick.labelsize': 'large',\n",
    "    'ytick.labelsize': 'large',\n",
    "    'xtick.color': 'black',\n",
    "    'ytick.color': 'black',\n",
    "    'legend.fontsize': 'large',\n",
    "}\n",
    "\n",
    "plt.rcParams.update(conf)"
   ]
  },
  {
   "cell_type": "code",
   "execution_count": 4,
   "metadata": {},
   "outputs": [
    {
     "data": {
      "text/html": [
       "<style>.container { width:70% !important; }</style>"
      ],
      "text/plain": [
       "<IPython.core.display.HTML object>"
      ]
     },
     "metadata": {},
     "output_type": "display_data"
    }
   ],
   "source": [
    "from IPython.core.display import display, HTML\n",
    "display(HTML(\"<style>.container { width:70% !important; }</style>\"))"
   ]
  },
  {
   "cell_type": "code",
   "execution_count": 5,
   "metadata": {},
   "outputs": [],
   "source": [
    "df_posts_2017_10_old = json_posts_to_pandas(r'E:\\Projects\\facebook_feeds\\texts\\scitani_ceskych_a_slovenskych_otaku_old\\posts\\2017-10.json')\n",
    "#df_posts_2017_10_new = json_posts_to_pandas(r'E:\\Projects\\facebook_feeds\\texts\\scitani_ceskych_a_slovenskych_otaku\\posts\\2017-10.json')\n"
   ]
  },
  {
   "cell_type": "code",
   "execution_count": 6,
   "metadata": {},
   "outputs": [],
   "source": [
    "#df_posts_2017_11 = json_posts_to_pandas(r'E:\\Projects\\facebook_feeds\\texts\\scitani_ceskych_a_slovenskych_otaku_old\\posts\\2017-11.json')\n",
    "#df_posts_2017_10 = json_posts_to_pandas(r'E:\\Projects\\facebook_feeds\\texts\\scitani_ceskych_a_slovenskych_otaku_old\\posts\\2017-10.json')\n",
    "#df_posts_2017_9 = json_posts_to_pandas(r'E:\\Projects\\facebook_feeds\\texts\\scitani_ceskych_a_slovenskych_otaku_old\\posts\\2017-9.json')\n",
    "#df_posts_2017_8 = json_posts_to_pandas(r'E:\\Projects\\facebook_feeds\\texts\\scitani_ceskych_a_slovenskych_otaku_old\\posts\\2017-8.json')\n",
    "#df_posts_2017_7 = json_posts_to_pandas(r'E:\\Projects\\facebook_feeds\\texts\\scitani_ceskych_a_slovenskych_otaku_old\\posts\\2017-7.json')\n",
    "#df_posts_2017_6 = json_posts_to_pandas(r'E:\\Projects\\facebook_feeds\\texts\\scitani_ceskych_a_slovenskych_otaku_old\\posts\\2017-6.json')\n",
    "#df_posts_2017_5 = json_posts_to_pandas(r'E:\\Projects\\facebook_feeds\\texts\\scitani_ceskych_a_slovenskych_otaku_old\\posts\\2017-5.json')\n",
    "#df_posts_2017_4 = json_posts_to_pandas(r'E:\\Projects\\facebook_feeds\\texts\\scitani_ceskych_a_slovenskych_otaku_old\\posts\\2017-4.json')\n",
    "#df_posts_2017_3 = json_posts_to_pandas(r'E:\\Projects\\facebook_feeds\\texts\\scitani_ceskych_a_slovenskych_otaku_old\\posts\\2017-3.json')\n",
    "#df_posts_2017_2 = json_posts_to_pandas(r'E:\\Projects\\facebook_feeds\\texts\\scitani_ceskych_a_slovenskych_otaku_old\\posts\\2017-2.json')\n",
    "#df_posts_2017_1 = json_posts_to_pandas(r'E:\\Projects\\facebook_feeds\\texts\\scitani_ceskych_a_slovenskych_otaku_old\\posts\\2017-1.json')\n",
    "#df_posts_2016_12 = json_posts_to_pandas(r'E:\\Projects\\facebook_feeds\\texts\\scitani_ceskych_a_slovenskych_otaku_old\\posts\\2016-12.json')\n"
   ]
  },
  {
   "cell_type": "code",
   "execution_count": 7,
   "metadata": {},
   "outputs": [],
   "source": [
    "#df_posts = pd.concat((df_posts_2017_11, df_posts_2017_10, df_posts_2017_9, df_posts_2017_8, df_posts_2017_7, df_posts_2017_6, df_posts_2017_5, df_posts_2017_4, \n",
    "#                      df_posts_2017_3, df_posts_2017_2, df_posts_2017_1, df_posts_2016_12))"
   ]
  },
  {
   "cell_type": "code",
   "execution_count": 8,
   "metadata": {},
   "outputs": [],
   "source": [
    "directory = osp.join(r'E:\\Projects\\facebook_feeds\\texts\\scitani_ceskych_a_slovenskych_otaku_old', 'posts')\n",
    "existing_months = sorted(set([utils.Month.from_str(s.replace('.json', '')) for s in os.listdir(directory)]))\n",
    "dfs_posts = []\n",
    "for month in existing_months:\n",
    "    df = json_posts_to_pandas(osp.join(directory, f'{month}.json'))\n",
    "    dfs_posts.append(df)\n"
   ]
  },
  {
   "cell_type": "code",
   "execution_count": 9,
   "metadata": {},
   "outputs": [],
   "source": [
    "df_posts = pd.concat([i for i in dfs_posts if i.shape[0] > 0][:-1])  # excluding last month, because it is not complete"
   ]
  },
  {
   "cell_type": "code",
   "execution_count": 10,
   "metadata": {},
   "outputs": [],
   "source": [
    "df_posts = df_posts.set_index('id')\n",
    "df_posts['created_time'] = pd.to_datetime(df_posts['created_time'])\n",
    "df_posts['updated_time'] = pd.to_datetime(df_posts['updated_time'])\n",
    "df_posts['message'] = df_posts['message'].fillna('')"
   ]
  },
  {
   "cell_type": "code",
   "execution_count": 15,
   "metadata": {},
   "outputs": [],
   "source": [
    "directory = osp.join(r'E:\\Projects\\facebook_feeds\\texts\\scitani_ceskych_a_slovenskych_otaku_old', 'comments')\n",
    "existing_months = sorted(set([utils.Month.from_str(s.replace('.json', '')) for s in os.listdir(directory)]))\n",
    "dfs_comments = []\n",
    "for month in existing_months:\n",
    "    df = json_comments_to_pandas(osp.join(directory, f'{month}.json'))\n",
    "    dfs_comments.append(df)\n",
    "\n",
    "df_comments = pd.concat([i for i in dfs_comments if i.shape[0] > 0][:-1])  # excluding last month, because it is not complete\n"
   ]
  },
  {
   "cell_type": "code",
   "execution_count": 16,
   "metadata": {},
   "outputs": [],
   "source": [
    "df_comments = df_comments.set_index('id')\n",
    "df_comments['created_time'] = pd.to_datetime(df_comments['created_time'])\n",
    "df_comments['message'] = df_comments['message'].fillna('')"
   ]
  },
  {
   "cell_type": "code",
   "execution_count": 17,
   "metadata": {},
   "outputs": [
    {
     "data": {
      "text/html": [
       "<div>\n",
       "<style scoped>\n",
       "    .dataframe tbody tr th:only-of-type {\n",
       "        vertical-align: middle;\n",
       "    }\n",
       "\n",
       "    .dataframe tbody tr th {\n",
       "        vertical-align: top;\n",
       "    }\n",
       "\n",
       "    .dataframe thead th {\n",
       "        text-align: right;\n",
       "    }\n",
       "</style>\n",
       "<table border=\"1\" class=\"dataframe\">\n",
       "  <thead>\n",
       "    <tr style=\"text-align: right;\">\n",
       "      <th></th>\n",
       "      <th>attachment_title</th>\n",
       "      <th>attachment_type</th>\n",
       "      <th>attachment_url</th>\n",
       "      <th>created_time</th>\n",
       "      <th>from_id</th>\n",
       "      <th>from_name</th>\n",
       "      <th>message</th>\n",
       "      <th>object_id</th>\n",
       "      <th>shares_count</th>\n",
       "      <th>status_type</th>\n",
       "      <th>type</th>\n",
       "      <th>updated_time</th>\n",
       "    </tr>\n",
       "    <tr>\n",
       "      <th>id</th>\n",
       "      <th></th>\n",
       "      <th></th>\n",
       "      <th></th>\n",
       "      <th></th>\n",
       "      <th></th>\n",
       "      <th></th>\n",
       "      <th></th>\n",
       "      <th></th>\n",
       "      <th></th>\n",
       "      <th></th>\n",
       "      <th></th>\n",
       "      <th></th>\n",
       "    </tr>\n",
       "  </thead>\n",
       "  <tbody>\n",
       "    <tr>\n",
       "      <th>135384786514720_135384799848052</th>\n",
       "      <td>None</td>\n",
       "      <td>None</td>\n",
       "      <td>None</td>\n",
       "      <td>2010-11-26 18:34:49+00:00</td>\n",
       "      <td>1610983968940296</td>\n",
       "      <td>David Svoboda</td>\n",
       "      <td></td>\n",
       "      <td>None</td>\n",
       "      <td>0</td>\n",
       "      <td>None</td>\n",
       "      <td>status</td>\n",
       "      <td>2010-11-26 18:34:49+00:00</td>\n",
       "    </tr>\n",
       "    <tr>\n",
       "      <th>135384786514720_157753440944521</th>\n",
       "      <td>None</td>\n",
       "      <td>None</td>\n",
       "      <td>None</td>\n",
       "      <td>2011-02-28 06:23:52+00:00</td>\n",
       "      <td>1732775143407905</td>\n",
       "      <td>Šárinka Pospíšilová</td>\n",
       "      <td>noo....je tady asi víc holek cooo?! xP :D :D</td>\n",
       "      <td>None</td>\n",
       "      <td>0</td>\n",
       "      <td>None</td>\n",
       "      <td>status</td>\n",
       "      <td>2011-02-28 19:12:53+00:00</td>\n",
       "    </tr>\n",
       "    <tr>\n",
       "      <th>135384786514720_157651807621351</th>\n",
       "      <td>None</td>\n",
       "      <td>None</td>\n",
       "      <td>None</td>\n",
       "      <td>2011-02-27 19:08:42+00:00</td>\n",
       "      <td>1565918073474103</td>\n",
       "      <td>Jirka Mičánek</td>\n",
       "      <td>Tak, název vymyšlen, manga se bude jmenovat \"T...</td>\n",
       "      <td>None</td>\n",
       "      <td>0</td>\n",
       "      <td>None</td>\n",
       "      <td>status</td>\n",
       "      <td>2011-02-28 17:10:56+00:00</td>\n",
       "    </tr>\n",
       "    <tr>\n",
       "      <th>135384786514720_157829847603547</th>\n",
       "      <td>Sčítání českých a slovenských otaku</td>\n",
       "      <td>avatar</td>\n",
       "      <td>https://www.facebook.com/groups/135384786514720/</td>\n",
       "      <td>2011-02-28 15:56:12+00:00</td>\n",
       "      <td>1613535518705290</td>\n",
       "      <td>DahviEe Honycut</td>\n",
       "      <td></td>\n",
       "      <td>None</td>\n",
       "      <td>0</td>\n",
       "      <td>None</td>\n",
       "      <td>status</td>\n",
       "      <td>2011-02-28 15:56:12+00:00</td>\n",
       "    </tr>\n",
       "    <tr>\n",
       "      <th>135384786514720_157824030937462</th>\n",
       "      <td>Amv - Do you know your anime?</td>\n",
       "      <td>share</td>\n",
       "      <td>https://l.facebook.com/l.php?u=https%3A%2F%2Fw...</td>\n",
       "      <td>2011-02-28 15:29:50+00:00</td>\n",
       "      <td>1610983968940296</td>\n",
       "      <td>David Svoboda</td>\n",
       "      <td>Už jsme překročili počet 80 členů! Sice to ješ...</td>\n",
       "      <td>None</td>\n",
       "      <td>0</td>\n",
       "      <td>shared_story</td>\n",
       "      <td>link</td>\n",
       "      <td>2011-02-28 15:29:50+00:00</td>\n",
       "    </tr>\n",
       "  </tbody>\n",
       "</table>\n",
       "</div>"
      ],
      "text/plain": [
       "                                                    attachment_title  \\\n",
       "id                                                                     \n",
       "135384786514720_135384799848052                                 None   \n",
       "135384786514720_157753440944521                                 None   \n",
       "135384786514720_157651807621351                                 None   \n",
       "135384786514720_157829847603547  Sčítání českých a slovenských otaku   \n",
       "135384786514720_157824030937462        Amv - Do you know your anime?   \n",
       "\n",
       "                                attachment_type  \\\n",
       "id                                                \n",
       "135384786514720_135384799848052            None   \n",
       "135384786514720_157753440944521            None   \n",
       "135384786514720_157651807621351            None   \n",
       "135384786514720_157829847603547          avatar   \n",
       "135384786514720_157824030937462           share   \n",
       "\n",
       "                                                                    attachment_url  \\\n",
       "id                                                                                   \n",
       "135384786514720_135384799848052                                               None   \n",
       "135384786514720_157753440944521                                               None   \n",
       "135384786514720_157651807621351                                               None   \n",
       "135384786514720_157829847603547   https://www.facebook.com/groups/135384786514720/   \n",
       "135384786514720_157824030937462  https://l.facebook.com/l.php?u=https%3A%2F%2Fw...   \n",
       "\n",
       "                                             created_time           from_id  \\\n",
       "id                                                                            \n",
       "135384786514720_135384799848052 2010-11-26 18:34:49+00:00  1610983968940296   \n",
       "135384786514720_157753440944521 2011-02-28 06:23:52+00:00  1732775143407905   \n",
       "135384786514720_157651807621351 2011-02-27 19:08:42+00:00  1565918073474103   \n",
       "135384786514720_157829847603547 2011-02-28 15:56:12+00:00  1613535518705290   \n",
       "135384786514720_157824030937462 2011-02-28 15:29:50+00:00  1610983968940296   \n",
       "\n",
       "                                           from_name  \\\n",
       "id                                                     \n",
       "135384786514720_135384799848052        David Svoboda   \n",
       "135384786514720_157753440944521  Šárinka Pospíšilová   \n",
       "135384786514720_157651807621351        Jirka Mičánek   \n",
       "135384786514720_157829847603547      DahviEe Honycut   \n",
       "135384786514720_157824030937462        David Svoboda   \n",
       "\n",
       "                                                                           message  \\\n",
       "id                                                                                   \n",
       "135384786514720_135384799848052                                                      \n",
       "135384786514720_157753440944521       noo....je tady asi víc holek cooo?! xP :D :D   \n",
       "135384786514720_157651807621351  Tak, název vymyšlen, manga se bude jmenovat \"T...   \n",
       "135384786514720_157829847603547                                                      \n",
       "135384786514720_157824030937462  Už jsme překročili počet 80 členů! Sice to ješ...   \n",
       "\n",
       "                                object_id  shares_count   status_type    type  \\\n",
       "id                                                                              \n",
       "135384786514720_135384799848052      None             0          None  status   \n",
       "135384786514720_157753440944521      None             0          None  status   \n",
       "135384786514720_157651807621351      None             0          None  status   \n",
       "135384786514720_157829847603547      None             0          None  status   \n",
       "135384786514720_157824030937462      None             0  shared_story    link   \n",
       "\n",
       "                                             updated_time  \n",
       "id                                                         \n",
       "135384786514720_135384799848052 2010-11-26 18:34:49+00:00  \n",
       "135384786514720_157753440944521 2011-02-28 19:12:53+00:00  \n",
       "135384786514720_157651807621351 2011-02-28 17:10:56+00:00  \n",
       "135384786514720_157829847603547 2011-02-28 15:56:12+00:00  \n",
       "135384786514720_157824030937462 2011-02-28 15:29:50+00:00  "
      ]
     },
     "execution_count": 17,
     "metadata": {},
     "output_type": "execute_result"
    }
   ],
   "source": [
    "df_posts.head()"
   ]
  },
  {
   "cell_type": "code",
   "execution_count": 18,
   "metadata": {},
   "outputs": [
    {
     "data": {
      "text/html": [
       "<div>\n",
       "<style scoped>\n",
       "    .dataframe tbody tr th:only-of-type {\n",
       "        vertical-align: middle;\n",
       "    }\n",
       "\n",
       "    .dataframe tbody tr th {\n",
       "        vertical-align: top;\n",
       "    }\n",
       "\n",
       "    .dataframe thead th {\n",
       "        text-align: right;\n",
       "    }\n",
       "</style>\n",
       "<table border=\"1\" class=\"dataframe\">\n",
       "  <thead>\n",
       "    <tr style=\"text-align: right;\">\n",
       "      <th></th>\n",
       "      <th>shares_count</th>\n",
       "    </tr>\n",
       "  </thead>\n",
       "  <tbody>\n",
       "    <tr>\n",
       "      <th>count</th>\n",
       "      <td>46343.000000</td>\n",
       "    </tr>\n",
       "    <tr>\n",
       "      <th>mean</th>\n",
       "      <td>0.095937</td>\n",
       "    </tr>\n",
       "    <tr>\n",
       "      <th>std</th>\n",
       "      <td>0.925444</td>\n",
       "    </tr>\n",
       "    <tr>\n",
       "      <th>min</th>\n",
       "      <td>0.000000</td>\n",
       "    </tr>\n",
       "    <tr>\n",
       "      <th>25%</th>\n",
       "      <td>0.000000</td>\n",
       "    </tr>\n",
       "    <tr>\n",
       "      <th>50%</th>\n",
       "      <td>0.000000</td>\n",
       "    </tr>\n",
       "    <tr>\n",
       "      <th>75%</th>\n",
       "      <td>0.000000</td>\n",
       "    </tr>\n",
       "    <tr>\n",
       "      <th>max</th>\n",
       "      <td>57.000000</td>\n",
       "    </tr>\n",
       "  </tbody>\n",
       "</table>\n",
       "</div>"
      ],
      "text/plain": [
       "       shares_count\n",
       "count  46343.000000\n",
       "mean       0.095937\n",
       "std        0.925444\n",
       "min        0.000000\n",
       "25%        0.000000\n",
       "50%        0.000000\n",
       "75%        0.000000\n",
       "max       57.000000"
      ]
     },
     "execution_count": 18,
     "metadata": {},
     "output_type": "execute_result"
    }
   ],
   "source": [
    "df_posts.describe()"
   ]
  },
  {
   "cell_type": "code",
   "execution_count": 19,
   "metadata": {},
   "outputs": [
    {
     "data": {
      "text/plain": [
       "(46343, 12)"
      ]
     },
     "execution_count": 19,
     "metadata": {},
     "output_type": "execute_result"
    }
   ],
   "source": [
    "df_posts.shape"
   ]
  },
  {
   "cell_type": "code",
   "execution_count": 20,
   "metadata": {},
   "outputs": [
    {
     "data": {
      "text/html": [
       "<div>\n",
       "<style scoped>\n",
       "    .dataframe tbody tr th:only-of-type {\n",
       "        vertical-align: middle;\n",
       "    }\n",
       "\n",
       "    .dataframe tbody tr th {\n",
       "        vertical-align: top;\n",
       "    }\n",
       "\n",
       "    .dataframe thead th {\n",
       "        text-align: right;\n",
       "    }\n",
       "</style>\n",
       "<table border=\"1\" class=\"dataframe\">\n",
       "  <thead>\n",
       "    <tr style=\"text-align: right;\">\n",
       "      <th></th>\n",
       "      <th>created_time</th>\n",
       "      <th>from_id</th>\n",
       "      <th>from_name</th>\n",
       "      <th>message</th>\n",
       "      <th>object_id</th>\n",
       "      <th>parent_id</th>\n",
       "    </tr>\n",
       "    <tr>\n",
       "      <th>id</th>\n",
       "      <th></th>\n",
       "      <th></th>\n",
       "      <th></th>\n",
       "      <th></th>\n",
       "      <th></th>\n",
       "      <th></th>\n",
       "    </tr>\n",
       "  </thead>\n",
       "  <tbody>\n",
       "    <tr>\n",
       "      <th>157837667602765</th>\n",
       "      <td>2011-02-28 16:19:52+00:00</td>\n",
       "      <td>1694250567294000</td>\n",
       "      <td>Jana Boušová</td>\n",
       "      <td>Asi jo :D</td>\n",
       "      <td>135384786514720_157753440944521</td>\n",
       "      <td>None</td>\n",
       "    </tr>\n",
       "    <tr>\n",
       "      <th>157869244266274</th>\n",
       "      <td>2011-02-28 18:57:31+00:00</td>\n",
       "      <td>10208455302058617</td>\n",
       "      <td>Ondřej Barney Dvořáček</td>\n",
       "      <td>jujda ... a není to tak skoro všude ? :D</td>\n",
       "      <td>135384786514720_157753440944521</td>\n",
       "      <td>None</td>\n",
       "    </tr>\n",
       "    <tr>\n",
       "      <th>157659047620627</th>\n",
       "      <td>2011-02-27 19:47:08+00:00</td>\n",
       "      <td>1664956386860373</td>\n",
       "      <td>Marie Svobodová</td>\n",
       "      <td>To zní dobře... už máš toho zlouna?</td>\n",
       "      <td>135384786514720_157651807621351</td>\n",
       "      <td>None</td>\n",
       "    </tr>\n",
       "    <tr>\n",
       "      <th>157660634287135</th>\n",
       "      <td>2011-02-27 19:55:33+00:00</td>\n",
       "      <td>1543691859040756</td>\n",
       "      <td>Tomáš Kaleja</td>\n",
       "      <td>zni to fakt good :D už se těšim :)</td>\n",
       "      <td>135384786514720_157651807621351</td>\n",
       "      <td>None</td>\n",
       "    </tr>\n",
       "    <tr>\n",
       "      <th>157671940952671</th>\n",
       "      <td>2011-02-27 20:47:06+00:00</td>\n",
       "      <td>1767392416604853</td>\n",
       "      <td>Klára Čikotová</td>\n",
       "      <td>už se na to fakt těšim</td>\n",
       "      <td>135384786514720_157651807621351</td>\n",
       "      <td>None</td>\n",
       "    </tr>\n",
       "  </tbody>\n",
       "</table>\n",
       "</div>"
      ],
      "text/plain": [
       "                             created_time            from_id  \\\n",
       "id                                                             \n",
       "157837667602765 2011-02-28 16:19:52+00:00   1694250567294000   \n",
       "157869244266274 2011-02-28 18:57:31+00:00  10208455302058617   \n",
       "157659047620627 2011-02-27 19:47:08+00:00   1664956386860373   \n",
       "157660634287135 2011-02-27 19:55:33+00:00   1543691859040756   \n",
       "157671940952671 2011-02-27 20:47:06+00:00   1767392416604853   \n",
       "\n",
       "                              from_name  \\\n",
       "id                                        \n",
       "157837667602765            Jana Boušová   \n",
       "157869244266274  Ondřej Barney Dvořáček   \n",
       "157659047620627         Marie Svobodová   \n",
       "157660634287135            Tomáš Kaleja   \n",
       "157671940952671          Klára Čikotová   \n",
       "\n",
       "                                                  message  \\\n",
       "id                                                          \n",
       "157837667602765                                 Asi jo :D   \n",
       "157869244266274  jujda ... a není to tak skoro všude ? :D   \n",
       "157659047620627       To zní dobře... už máš toho zlouna?   \n",
       "157660634287135        zni to fakt good :D už se těšim :)   \n",
       "157671940952671                    už se na to fakt těšim   \n",
       "\n",
       "                                       object_id parent_id  \n",
       "id                                                          \n",
       "157837667602765  135384786514720_157753440944521      None  \n",
       "157869244266274  135384786514720_157753440944521      None  \n",
       "157659047620627  135384786514720_157651807621351      None  \n",
       "157660634287135  135384786514720_157651807621351      None  \n",
       "157671940952671  135384786514720_157651807621351      None  "
      ]
     },
     "execution_count": 20,
     "metadata": {},
     "output_type": "execute_result"
    }
   ],
   "source": [
    "df_comments.head()"
   ]
  },
  {
   "cell_type": "code",
   "execution_count": 21,
   "metadata": {},
   "outputs": [
    {
     "data": {
      "text/html": [
       "<div>\n",
       "<style scoped>\n",
       "    .dataframe tbody tr th:only-of-type {\n",
       "        vertical-align: middle;\n",
       "    }\n",
       "\n",
       "    .dataframe tbody tr th {\n",
       "        vertical-align: top;\n",
       "    }\n",
       "\n",
       "    .dataframe thead th {\n",
       "        text-align: right;\n",
       "    }\n",
       "</style>\n",
       "<table border=\"1\" class=\"dataframe\">\n",
       "  <thead>\n",
       "    <tr style=\"text-align: right;\">\n",
       "      <th></th>\n",
       "      <th>created_time</th>\n",
       "      <th>from_id</th>\n",
       "      <th>from_name</th>\n",
       "      <th>message</th>\n",
       "      <th>object_id</th>\n",
       "      <th>parent_id</th>\n",
       "    </tr>\n",
       "  </thead>\n",
       "  <tbody>\n",
       "    <tr>\n",
       "      <th>count</th>\n",
       "      <td>572922</td>\n",
       "      <td>572922</td>\n",
       "      <td>572922</td>\n",
       "      <td>572922</td>\n",
       "      <td>572922</td>\n",
       "      <td>135630</td>\n",
       "    </tr>\n",
       "    <tr>\n",
       "      <th>unique</th>\n",
       "      <td>569747</td>\n",
       "      <td>10958</td>\n",
       "      <td>10846</td>\n",
       "      <td>527290</td>\n",
       "      <td>35251</td>\n",
       "      <td>29884</td>\n",
       "    </tr>\n",
       "    <tr>\n",
       "      <th>top</th>\n",
       "      <td>2015-09-04 17:55:24+00:00</td>\n",
       "      <td>1912933802068421</td>\n",
       "      <td>Adam Furik</td>\n",
       "      <td></td>\n",
       "      <td>135384786514720_1264743826912138</td>\n",
       "      <td>1086732758046580</td>\n",
       "    </tr>\n",
       "    <tr>\n",
       "      <th>freq</th>\n",
       "      <td>8</td>\n",
       "      <td>12248</td>\n",
       "      <td>12248</td>\n",
       "      <td>11382</td>\n",
       "      <td>600</td>\n",
       "      <td>223</td>\n",
       "    </tr>\n",
       "    <tr>\n",
       "      <th>first</th>\n",
       "      <td>2011-02-14 20:58:36+00:00</td>\n",
       "      <td>NaN</td>\n",
       "      <td>NaN</td>\n",
       "      <td>NaN</td>\n",
       "      <td>NaN</td>\n",
       "      <td>NaN</td>\n",
       "    </tr>\n",
       "    <tr>\n",
       "      <th>last</th>\n",
       "      <td>2017-10-31 20:22:13+00:00</td>\n",
       "      <td>NaN</td>\n",
       "      <td>NaN</td>\n",
       "      <td>NaN</td>\n",
       "      <td>NaN</td>\n",
       "      <td>NaN</td>\n",
       "    </tr>\n",
       "  </tbody>\n",
       "</table>\n",
       "</div>"
      ],
      "text/plain": [
       "                     created_time           from_id   from_name message  \\\n",
       "count                      572922            572922      572922  572922   \n",
       "unique                     569747             10958       10846  527290   \n",
       "top     2015-09-04 17:55:24+00:00  1912933802068421  Adam Furik           \n",
       "freq                            8             12248       12248   11382   \n",
       "first   2011-02-14 20:58:36+00:00               NaN         NaN     NaN   \n",
       "last    2017-10-31 20:22:13+00:00               NaN         NaN     NaN   \n",
       "\n",
       "                               object_id         parent_id  \n",
       "count                             572922            135630  \n",
       "unique                             35251             29884  \n",
       "top     135384786514720_1264743826912138  1086732758046580  \n",
       "freq                                 600               223  \n",
       "first                                NaN               NaN  \n",
       "last                                 NaN               NaN  "
      ]
     },
     "execution_count": 21,
     "metadata": {},
     "output_type": "execute_result"
    }
   ],
   "source": [
    "df_comments.describe()"
   ]
  },
  {
   "cell_type": "code",
   "execution_count": 22,
   "metadata": {},
   "outputs": [
    {
     "data": {
      "text/plain": [
       "(572922, 6)"
      ]
     },
     "execution_count": 22,
     "metadata": {},
     "output_type": "execute_result"
    }
   ],
   "source": [
    "df_comments.shape"
   ]
  },
  {
   "cell_type": "code",
   "execution_count": 24,
   "metadata": {},
   "outputs": [
    {
     "data": {
      "text/html": [
       "<div>\n",
       "<style scoped>\n",
       "    .dataframe tbody tr th:only-of-type {\n",
       "        vertical-align: middle;\n",
       "    }\n",
       "\n",
       "    .dataframe tbody tr th {\n",
       "        vertical-align: top;\n",
       "    }\n",
       "\n",
       "    .dataframe thead th {\n",
       "        text-align: right;\n",
       "    }\n",
       "</style>\n",
       "<table border=\"1\" class=\"dataframe\">\n",
       "  <thead>\n",
       "    <tr style=\"text-align: right;\">\n",
       "      <th></th>\n",
       "      <th>created_time</th>\n",
       "      <th>message</th>\n",
       "      <th>from_name</th>\n",
       "      <th>from_id</th>\n",
       "    </tr>\n",
       "    <tr>\n",
       "      <th>id</th>\n",
       "      <th></th>\n",
       "      <th></th>\n",
       "      <th></th>\n",
       "      <th></th>\n",
       "    </tr>\n",
       "  </thead>\n",
       "  <tbody>\n",
       "    <tr>\n",
       "      <th>135384786514720_135384799848052</th>\n",
       "      <td>2010-11-26 18:34:49+00:00</td>\n",
       "      <td></td>\n",
       "      <td>David Svoboda</td>\n",
       "      <td>1610983968940296</td>\n",
       "    </tr>\n",
       "    <tr>\n",
       "      <th>135384786514720_157753440944521</th>\n",
       "      <td>2011-02-28 06:23:52+00:00</td>\n",
       "      <td>noo....je tady asi víc holek cooo?! xP :D :D</td>\n",
       "      <td>Šárinka Pospíšilová</td>\n",
       "      <td>1732775143407905</td>\n",
       "    </tr>\n",
       "    <tr>\n",
       "      <th>135384786514720_157651807621351</th>\n",
       "      <td>2011-02-27 19:08:42+00:00</td>\n",
       "      <td>Tak, název vymyšlen, manga se bude jmenovat \"T...</td>\n",
       "      <td>Jirka Mičánek</td>\n",
       "      <td>1565918073474103</td>\n",
       "    </tr>\n",
       "    <tr>\n",
       "      <th>135384786514720_157829847603547</th>\n",
       "      <td>2011-02-28 15:56:12+00:00</td>\n",
       "      <td></td>\n",
       "      <td>DahviEe Honycut</td>\n",
       "      <td>1613535518705290</td>\n",
       "    </tr>\n",
       "    <tr>\n",
       "      <th>135384786514720_157824030937462</th>\n",
       "      <td>2011-02-28 15:29:50+00:00</td>\n",
       "      <td>Už jsme překročili počet 80 členů! Sice to ješ...</td>\n",
       "      <td>David Svoboda</td>\n",
       "      <td>1610983968940296</td>\n",
       "    </tr>\n",
       "  </tbody>\n",
       "</table>\n",
       "</div>"
      ],
      "text/plain": [
       "                                             created_time  \\\n",
       "id                                                          \n",
       "135384786514720_135384799848052 2010-11-26 18:34:49+00:00   \n",
       "135384786514720_157753440944521 2011-02-28 06:23:52+00:00   \n",
       "135384786514720_157651807621351 2011-02-27 19:08:42+00:00   \n",
       "135384786514720_157829847603547 2011-02-28 15:56:12+00:00   \n",
       "135384786514720_157824030937462 2011-02-28 15:29:50+00:00   \n",
       "\n",
       "                                                                           message  \\\n",
       "id                                                                                   \n",
       "135384786514720_135384799848052                                                      \n",
       "135384786514720_157753440944521       noo....je tady asi víc holek cooo?! xP :D :D   \n",
       "135384786514720_157651807621351  Tak, název vymyšlen, manga se bude jmenovat \"T...   \n",
       "135384786514720_157829847603547                                                      \n",
       "135384786514720_157824030937462  Už jsme překročili počet 80 členů! Sice to ješ...   \n",
       "\n",
       "                                           from_name           from_id  \n",
       "id                                                                      \n",
       "135384786514720_135384799848052        David Svoboda  1610983968940296  \n",
       "135384786514720_157753440944521  Šárinka Pospíšilová  1732775143407905  \n",
       "135384786514720_157651807621351        Jirka Mičánek  1565918073474103  \n",
       "135384786514720_157829847603547      DahviEe Honycut  1613535518705290  \n",
       "135384786514720_157824030937462        David Svoboda  1610983968940296  "
      ]
     },
     "execution_count": 24,
     "metadata": {},
     "output_type": "execute_result"
    }
   ],
   "source": [
    "df_messages = pd.concat((df_posts[['created_time', 'message', 'from_name', 'from_id']], df_comments[['created_time', 'message', 'from_name', 'from_id']]))\n",
    "df_messages.head()"
   ]
  },
  {
   "cell_type": "code",
   "execution_count": 26,
   "metadata": {},
   "outputs": [
    {
     "data": {
      "text/html": [
       "<div>\n",
       "<style scoped>\n",
       "    .dataframe tbody tr th:only-of-type {\n",
       "        vertical-align: middle;\n",
       "    }\n",
       "\n",
       "    .dataframe tbody tr th {\n",
       "        vertical-align: top;\n",
       "    }\n",
       "\n",
       "    .dataframe thead th {\n",
       "        text-align: right;\n",
       "    }\n",
       "</style>\n",
       "<table border=\"1\" class=\"dataframe\">\n",
       "  <thead>\n",
       "    <tr style=\"text-align: right;\">\n",
       "      <th></th>\n",
       "      <th>created_time</th>\n",
       "      <th>message</th>\n",
       "      <th>from_name</th>\n",
       "      <th>from_id</th>\n",
       "    </tr>\n",
       "  </thead>\n",
       "  <tbody>\n",
       "    <tr>\n",
       "      <th>count</th>\n",
       "      <td>619265</td>\n",
       "      <td>619265</td>\n",
       "      <td>619265</td>\n",
       "      <td>619265</td>\n",
       "    </tr>\n",
       "    <tr>\n",
       "      <th>unique</th>\n",
       "      <td>615389</td>\n",
       "      <td>564419</td>\n",
       "      <td>11081</td>\n",
       "      <td>11197</td>\n",
       "    </tr>\n",
       "    <tr>\n",
       "      <th>top</th>\n",
       "      <td>2013-06-03 17:56:26+00:00</td>\n",
       "      <td></td>\n",
       "      <td>Adam Furik</td>\n",
       "      <td>1912933802068421</td>\n",
       "    </tr>\n",
       "    <tr>\n",
       "      <th>freq</th>\n",
       "      <td>10</td>\n",
       "      <td>18579</td>\n",
       "      <td>12369</td>\n",
       "      <td>12369</td>\n",
       "    </tr>\n",
       "    <tr>\n",
       "      <th>first</th>\n",
       "      <td>2010-11-26 18:34:49+00:00</td>\n",
       "      <td>NaN</td>\n",
       "      <td>NaN</td>\n",
       "      <td>NaN</td>\n",
       "    </tr>\n",
       "    <tr>\n",
       "      <th>last</th>\n",
       "      <td>2017-10-31 20:22:13+00:00</td>\n",
       "      <td>NaN</td>\n",
       "      <td>NaN</td>\n",
       "      <td>NaN</td>\n",
       "    </tr>\n",
       "  </tbody>\n",
       "</table>\n",
       "</div>"
      ],
      "text/plain": [
       "                     created_time message   from_name           from_id\n",
       "count                      619265  619265      619265            619265\n",
       "unique                     615389  564419       11081             11197\n",
       "top     2013-06-03 17:56:26+00:00          Adam Furik  1912933802068421\n",
       "freq                           10   18579       12369             12369\n",
       "first   2010-11-26 18:34:49+00:00     NaN         NaN               NaN\n",
       "last    2017-10-31 20:22:13+00:00     NaN         NaN               NaN"
      ]
     },
     "execution_count": 26,
     "metadata": {},
     "output_type": "execute_result"
    }
   ],
   "source": [
    "df_messages.describe()"
   ]
  },
  {
   "cell_type": "markdown",
   "metadata": {},
   "source": [
    "## some basic things"
   ]
  },
  {
   "cell_type": "code",
   "execution_count": null,
   "metadata": {},
   "outputs": [],
   "source": [
    "df_posts['from_id'].value_counts().value_counts().sort_index().plot.bar(figsize=(22, 7), title='histogram of posts')\n",
    "plt.xlabel('number of posts')\n",
    "plt.ylabel('number of people')\n"
   ]
  },
  {
   "cell_type": "code",
   "execution_count": null,
   "metadata": {},
   "outputs": [],
   "source": [
    "df_posts['from_name'].value_counts()[:12].plot.bar(figsize=(22, 7))\n",
    "plt.xticks(rotation=10)"
   ]
  },
  {
   "cell_type": "code",
   "execution_count": null,
   "metadata": {},
   "outputs": [],
   "source": [
    "df_posts['type'].value_counts().plot.bar(figsize=(22, 7))\n",
    "plt.xticks(rotation=0)"
   ]
  },
  {
   "cell_type": "code",
   "execution_count": null,
   "metadata": {
    "scrolled": false
   },
   "outputs": [],
   "source": [
    "df_posts['shares_count'].value_counts().sort_index().plot.bar(figsize=(22, 7), logy=True)"
   ]
  },
  {
   "cell_type": "code",
   "execution_count": null,
   "metadata": {},
   "outputs": [],
   "source": [
    "most_shared = df_posts[df_posts['shares_count'] == df_posts['shares_count'].max()].iloc[0]\n",
    "most_shared"
   ]
  },
  {
   "cell_type": "code",
   "execution_count": null,
   "metadata": {},
   "outputs": [],
   "source": [
    "most_shared['attachment_url']"
   ]
  },
  {
   "cell_type": "markdown",
   "metadata": {},
   "source": [
    "## message length analysis"
   ]
  },
  {
   "cell_type": "code",
   "execution_count": null,
   "metadata": {},
   "outputs": [],
   "source": [
    "df_posts['word_count'] = df_posts['message'].str.split().apply(len)"
   ]
  },
  {
   "cell_type": "code",
   "execution_count": null,
   "metadata": {},
   "outputs": [],
   "source": [
    "df_posts['char_count'] = df_posts['message'].str.len()"
   ]
  },
  {
   "cell_type": "code",
   "execution_count": null,
   "metadata": {},
   "outputs": [],
   "source": [
    "df_posts['word_count'].value_counts().head(10)"
   ]
  },
  {
   "cell_type": "code",
   "execution_count": null,
   "metadata": {},
   "outputs": [],
   "source": [
    "df_posts['char_count'].value_counts().head(10)"
   ]
  },
  {
   "cell_type": "code",
   "execution_count": null,
   "metadata": {},
   "outputs": [],
   "source": [
    "df_posts[['word_count', 'char_count']].describe()"
   ]
  },
  {
   "cell_type": "code",
   "execution_count": null,
   "metadata": {},
   "outputs": [],
   "source": [
    "sorted_word_lengths = df_posts['word_count'].sort_values(ascending=False)\n",
    "sorted_word_lengths.head()"
   ]
  },
  {
   "cell_type": "code",
   "execution_count": null,
   "metadata": {},
   "outputs": [],
   "source": [
    "sorted_char_lengths = df_posts['char_count'].sort_values(ascending=False)\n",
    "sorted_char_lengths.head()"
   ]
  },
  {
   "cell_type": "code",
   "execution_count": null,
   "metadata": {
    "scrolled": false
   },
   "outputs": [],
   "source": [
    "df_posts.loc[sorted_word_lengths[:10].index][['created_time', 'from_name', 'message', 'word_count', 'char_count']]"
   ]
  },
  {
   "cell_type": "code",
   "execution_count": null,
   "metadata": {},
   "outputs": [],
   "source": [
    "df_posts.loc[sorted_char_lengths[:10].index][['created_time', 'from_name', 'message', 'word_count', 'char_count']]"
   ]
  },
  {
   "cell_type": "code",
   "execution_count": null,
   "metadata": {},
   "outputs": [],
   "source": [
    "df_posts"
   ]
  },
  {
   "cell_type": "code",
   "execution_count": null,
   "metadata": {},
   "outputs": [],
   "source": [
    "sorted_word_lengths.index[:10]"
   ]
  },
  {
   "cell_type": "code",
   "execution_count": null,
   "metadata": {},
   "outputs": [],
   "source": [
    "df_posts[df_posts['word_count'] == sorted_word_lengths.iloc[0]]"
   ]
  },
  {
   "cell_type": "code",
   "execution_count": null,
   "metadata": {},
   "outputs": [],
   "source": [
    "df_posts[df_posts['word_count'] == sorted_word_lengths.iloc[1]]"
   ]
  },
  {
   "cell_type": "code",
   "execution_count": null,
   "metadata": {},
   "outputs": [],
   "source": [
    "df_posts.groupby('from_name').sum().sort_values(by='word_count', ascending=False)[:12]['word_count'].plot.bar(figsize=(22, 7))\n",
    "plt.xticks(rotation=10)"
   ]
  },
  {
   "cell_type": "code",
   "execution_count": null,
   "metadata": {},
   "outputs": [],
   "source": [
    "df_posts.groupby('from_name').sum().sort_values(by='char_count', ascending=False)[:12]['char_count'].plot.bar(figsize=(22, 7))\n",
    "plt.xticks(rotation=10)"
   ]
  },
  {
   "cell_type": "code",
   "execution_count": null,
   "metadata": {},
   "outputs": [],
   "source": [
    "df_posts.groupby('from_name').max().sort_values(by='word_count', ascending=False)[:12]['word_count'].plot.bar(figsize=(22, 7))\n",
    "plt.xticks(rotation=10)"
   ]
  },
  {
   "cell_type": "code",
   "execution_count": null,
   "metadata": {},
   "outputs": [],
   "source": [
    "df_posts.groupby('from_name').mean().sort_values(by='word_count', ascending=False)[:12]['word_count'].plot.bar(figsize=(22, 7))\n",
    "plt.xticks(rotation=10)"
   ]
  },
  {
   "cell_type": "code",
   "execution_count": null,
   "metadata": {},
   "outputs": [],
   "source": [
    "df_posts.groupby('from_name').median().sort_values(by='word_count', ascending=False)[:12]['word_count'].plot.bar(figsize=(22, 7))\n",
    "plt.xticks(rotation=0)"
   ]
  },
  {
   "cell_type": "code",
   "execution_count": null,
   "metadata": {},
   "outputs": [],
   "source": [
    "df_posts.groupby('from_name').var().fillna(0).sort_values(by='word_count', ascending=False)[:12]"
   ]
  },
  {
   "cell_type": "code",
   "execution_count": null,
   "metadata": {},
   "outputs": [],
   "source": [
    "df_posts.groupby('from_name').var().sort_values(by='word_count', ascending=False)[:12]['word_count'].plot.bar(figsize=(22, 7))\n",
    "plt.xticks(rotation=15)"
   ]
  },
  {
   "cell_type": "markdown",
   "metadata": {},
   "source": [
    "## message lengths and types in time"
   ]
  },
  {
   "cell_type": "code",
   "execution_count": null,
   "metadata": {},
   "outputs": [],
   "source": [
    "df_posts['type'].value_counts()"
   ]
  },
  {
   "cell_type": "code",
   "execution_count": null,
   "metadata": {},
   "outputs": [],
   "source": [
    "df_posts['type'].unique()"
   ]
  },
  {
   "cell_type": "code",
   "execution_count": null,
   "metadata": {},
   "outputs": [],
   "source": [
    "for post_type in df_posts['type'].unique():\n",
    "    df_posts[df_posts['type'] == post_type].groupby(pd.Grouper(key='created_time', freq='M'))['type'].count().plot(figsize=(22, 7), label=post_type)\n",
    "plt.legend()"
   ]
  },
  {
   "cell_type": "code",
   "execution_count": null,
   "metadata": {},
   "outputs": [],
   "source": [
    "for post_type in ['status', 'link', 'photo', 'video']:\n",
    "    df_posts[df_posts['type'] == post_type].groupby(pd.Grouper(key='created_time', freq='M'))['type'].count().plot(figsize=(22, 7), label=post_type)\n",
    "plt.legend()"
   ]
  },
  {
   "cell_type": "code",
   "execution_count": null,
   "metadata": {},
   "outputs": [],
   "source": [
    "for post_type in ['status', 'link', 'photo', 'video']:\n",
    "    df_posts[df_posts['type'] == post_type].groupby(pd.Grouper(key='created_time', freq='M'))['type'].count().rolling(3).sum().plot(figsize=(22, 7), label=post_type)\n",
    "plt.legend()"
   ]
  },
  {
   "cell_type": "code",
   "execution_count": null,
   "metadata": {},
   "outputs": [],
   "source": [
    "for post_type in ['status', 'link', 'photo', 'video']:\n",
    "    df_posts[df_posts['type'] == post_type].groupby(pd.Grouper(key='created_time', freq='3M'))['type'].count().plot(figsize=(22, 7), label=post_type)\n",
    "plt.title('počet příspěvků podle typu, sečteno přes čtvrtletí')\n",
    "plt.legend()"
   ]
  },
  {
   "cell_type": "code",
   "execution_count": null,
   "metadata": {},
   "outputs": [],
   "source": [
    "for post_type in ['status', 'link', 'photo', 'video']:\n",
    "    df_posts[df_posts['type'] == post_type].groupby(pd.Grouper(key='created_time', freq='Y'))['type'].count().plot(figsize=(22, 7), label=post_type)\n",
    "plt.legend()"
   ]
  },
  {
   "cell_type": "code",
   "execution_count": null,
   "metadata": {},
   "outputs": [],
   "source": [
    "df_posts.groupby(pd.Grouper(key='created_time', freq='Y'))['message'].count().plot(figsize=(22, 7))"
   ]
  },
  {
   "cell_type": "code",
   "execution_count": null,
   "metadata": {},
   "outputs": [],
   "source": [
    "df_posts.groupby(pd.Grouper(key='created_time', freq='Y'))['char_count'].sum().plot(figsize=(22, 7))"
   ]
  },
  {
   "cell_type": "code",
   "execution_count": null,
   "metadata": {},
   "outputs": [],
   "source": [
    "df_posts.groupby(pd.Grouper(key='created_time', freq='3M'))['char_count'].mean().plot(figsize=(22, 7))"
   ]
  },
  {
   "cell_type": "code",
   "execution_count": null,
   "metadata": {},
   "outputs": [],
   "source": [
    "df_posts.groupby(pd.Grouper(key='created_time', freq='3M'))['char_count'].median().plot(figsize=(22, 7), title='počet znaků mediánového příspěvku')"
   ]
  },
  {
   "cell_type": "code",
   "execution_count": null,
   "metadata": {},
   "outputs": [],
   "source": [
    "df_posts.groupby(pd.Grouper(key='created_time', freq='3M'))['word_count'].median().plot(figsize=(22, 7))"
   ]
  },
  {
   "cell_type": "code",
   "execution_count": null,
   "metadata": {},
   "outputs": [],
   "source": [
    "df_posts[df_posts['type'] == 'video']"
   ]
  },
  {
   "cell_type": "code",
   "execution_count": null,
   "metadata": {},
   "outputs": [],
   "source": [
    "df_posts.groupby(pd.Grouper(key='created_time', freq='3M'))['message'].agg(lambda x: x.str.contains('kirito', case=False).sum()).plot(figsize=(22, 7), title='počet výskytů slova Kirito')"
   ]
  },
  {
   "cell_type": "code",
   "execution_count": null,
   "metadata": {},
   "outputs": [],
   "source": [
    "df_posts.groupby(pd.Grouper(key='created_time', freq='3M'))['message'].agg(lambda x: x.str.contains('kirit', case=False).sum()).plot(figsize=(22, 7), title='počet výskytů slova Kirit*')"
   ]
  },
  {
   "cell_type": "code",
   "execution_count": null,
   "metadata": {},
   "outputs": [],
   "source": [
    "df_posts.groupby(pd.Grouper(key='created_time', freq='M'))['message'].agg(lambda x: x.str.contains('kirito', case=False).sum()).plot(figsize=(22, 7), title='počet výskytů slova Kirito')"
   ]
  },
  {
   "cell_type": "code",
   "execution_count": null,
   "metadata": {},
   "outputs": [],
   "source": [
    "df_posts.groupby(pd.Grouper(key='created_time', freq='3M'))['message'].agg(lambda x: x.str.contains('asuna', case=False).sum()).plot(figsize=(22, 7), title='počet výskytů slova Asuna')"
   ]
  },
  {
   "cell_type": "code",
   "execution_count": null,
   "metadata": {},
   "outputs": [],
   "source": [
    "df_posts.groupby(pd.Grouper(key='created_time', freq='M'))['message'].agg(lambda x: x.str.contains('waifu', case=False).sum()).plot(figsize=(22, 7), title='počet výskytů slova waifu')"
   ]
  },
  {
   "cell_type": "code",
   "execution_count": null,
   "metadata": {},
   "outputs": [],
   "source": [
    "df_posts.groupby(pd.Grouper(key='created_time', freq='M'))['message'].agg(lambda x: x.str.contains('lewd', case=False).sum()).plot(figsize=(22, 7), title='počet výskytů slova lewd')"
   ]
  },
  {
   "cell_type": "code",
   "execution_count": null,
   "metadata": {},
   "outputs": [],
   "source": [
    "df_posts.groupby(pd.Grouper(key='created_time', freq='3M'))['message'].agg(lambda x: x.str.contains('waifu', case=False).sum()).plot(figsize=(22, 7), title='počet výskytů slova waifu')"
   ]
  },
  {
   "cell_type": "code",
   "execution_count": null,
   "metadata": {},
   "outputs": [],
   "source": [
    "df_posts[df_posts['message'].str.contains('waifu', case=False)][['from_name', 'message']]"
   ]
  },
  {
   "cell_type": "code",
   "execution_count": null,
   "metadata": {},
   "outputs": [],
   "source": [
    "df_posts[df_posts['message'].str.contains('kirito', case=False)][['from_name', 'message', 'created_time']]"
   ]
  },
  {
   "cell_type": "code",
   "execution_count": null,
   "metadata": {},
   "outputs": [],
   "source": [
    "df_posts.groupby(pd.Grouper(key='created_time', freq='3M'))['message'].agg(lambda x: x.str.contains('anime', case=False).sum()).plot(figsize=(22, 7), title='počet výskytů slova anime')"
   ]
  },
  {
   "cell_type": "code",
   "execution_count": null,
   "metadata": {},
   "outputs": [],
   "source": [
    "df_posts.groupby(pd.Grouper(key='created_time', freq='3M'))['message'].agg(lambda x: x.str.contains('anim', case=False).sum()).plot(figsize=(22, 7), title='počet výskytů slova anim*')"
   ]
  },
  {
   "cell_type": "code",
   "execution_count": null,
   "metadata": {},
   "outputs": [],
   "source": [
    "df_posts.groupby(pd.Grouper(key='created_time', freq='3M'))['message'].agg(lambda x: x.str.contains('mang', case=False).sum()).plot(figsize=(22, 7), title='počet výskytů slova mang*')"
   ]
  },
  {
   "cell_type": "code",
   "execution_count": null,
   "metadata": {},
   "outputs": [],
   "source": [
    "df_posts.groupby(pd.Grouper(key='created_time', freq='3M'))['message'].agg(lambda x: x.str.contains('sao', case=False).sum()).plot(figsize=(22, 7), title='počet výskytů slova sao')"
   ]
  },
  {
   "cell_type": "code",
   "execution_count": null,
   "metadata": {},
   "outputs": [],
   "source": [
    "df_posts.groupby(pd.Grouper(key='created_time', freq='3M'))['message'].agg(lambda x: x.str.contains('sao|sword art', case=False).sum()).plot(figsize=(22, 7), title='počet výskytů slova sao/sword art')"
   ]
  },
  {
   "cell_type": "code",
   "execution_count": null,
   "metadata": {},
   "outputs": [],
   "source": [
    "df_posts.groupby(pd.Grouper(key='created_time', freq='3M'))['message'].agg(lambda x: x.str.contains('yaoi', case=False).sum()).plot(figsize=(22, 7), title='počet výskytů slova yaoi')"
   ]
  },
  {
   "cell_type": "code",
   "execution_count": null,
   "metadata": {},
   "outputs": [],
   "source": [
    "df_posts.groupby(pd.Grouper(key='created_time', freq='3M'))['message'].agg(lambda x: x.str.contains('jaoi', case=False).sum()).plot(figsize=(22, 7), title='počet výskytů slova jaoi')"
   ]
  },
  {
   "cell_type": "code",
   "execution_count": null,
   "metadata": {},
   "outputs": [],
   "source": [
    "df_posts.groupby(pd.Grouper(key='created_time', freq='3M'))['message'].agg(lambda x: x.str.contains('ahegao', case=False).sum()).plot(figsize=(22, 7), title='počet výskytů slova ahegao')"
   ]
  },
  {
   "cell_type": "code",
   "execution_count": null,
   "metadata": {},
   "outputs": [],
   "source": [
    "df_posts.groupby(pd.Grouper(key='created_time', freq='3M'))['message'].agg(lambda x: x.str.contains('agehao', case=False).sum()).plot(figsize=(22, 7), title='počet výskytů slova agehao')"
   ]
  },
  {
   "cell_type": "code",
   "execution_count": null,
   "metadata": {},
   "outputs": [],
   "source": [
    "df_posts.groupby(pd.Grouper(key='created_time', freq='M'))['message'].agg(lambda x: x.str.contains('acon', case=False).sum()).plot(figsize=(22, 7), title='počet výskytů slova acon')"
   ]
  },
  {
   "cell_type": "code",
   "execution_count": null,
   "metadata": {},
   "outputs": [],
   "source": [
    "df_posts.groupby(pd.Grouper(key='created_time', freq='M'))['message'].agg(lambda x: x.str.contains('advik|advík', case=False).sum()).plot(figsize=(22, 7), title='počet výskytů slova advik/advík')"
   ]
  },
  {
   "cell_type": "code",
   "execution_count": null,
   "metadata": {},
   "outputs": [],
   "source": [
    "df_posts.groupby(pd.Grouper(key='created_time', freq='M'))['message'].agg(lambda x: x.str.contains('anime fest', case=False).sum()).plot(figsize=(22, 7), title='počet výskytů slova animefest')"
   ]
  },
  {
   "cell_type": "code",
   "execution_count": null,
   "metadata": {},
   "outputs": [],
   "source": [
    "df_posts.groupby(pd.Grouper(key='created_time', freq='M'))['message'].agg(lambda x: x.str.contains('animefest', case=False).sum()).plot(figsize=(22, 7), title='počet výskytů slova animefest')"
   ]
  },
  {
   "cell_type": "code",
   "execution_count": null,
   "metadata": {},
   "outputs": [],
   "source": [
    "def animfest_pred(x):\n",
    "    return x.str.contains('anime fest', case=False) | x.str.contains('animefest', case=False) | x.str.contains(' af ', case=False) | x.str.contains(' AF') | x.str.contains(' afk', case=False) | x.str.startswith('AF') | x.str.endswith('AF')\n"
   ]
  },
  {
   "cell_type": "code",
   "execution_count": null,
   "metadata": {},
   "outputs": [],
   "source": [
    "df_posts.groupby(pd.Grouper(key='created_time', freq='M'))['message'].agg(lambda x: animfest_pred(x).sum()).plot(figsize=(22, 7), title='počet výskytů slova animefest')"
   ]
  },
  {
   "cell_type": "code",
   "execution_count": null,
   "metadata": {},
   "outputs": [],
   "source": [
    "df_posts.groupby(df_posts['created_time'].dt.month)['message'].agg(lambda x: animfest_pred(x).sum()).plot(figsize=(22, 7), title='počet výskytů slova animefest podle měsíce')\n",
    "plt.xticks(np.arange(1, 13), ['Leden', 'Únor', 'Březen', 'Duben', 'Květen', 'Červen', 'Červenec', 'Srpen', 'Září', 'Říjen', 'Listopad', 'Prosinec'])"
   ]
  },
  {
   "cell_type": "code",
   "execution_count": null,
   "metadata": {},
   "outputs": [],
   "source": [
    "df_posts.groupby(pd.Grouper(key='created_time', freq='M'))['message'].agg(lambda x: animfest_pred(x).sum()).plot(figsize=(22, 7), title='počet výskytů slova AF')"
   ]
  },
  {
   "cell_type": "markdown",
   "metadata": {},
   "source": [
    "### trying different AF filters"
   ]
  },
  {
   "cell_type": "code",
   "execution_count": null,
   "metadata": {},
   "outputs": [],
   "source": [
    "df_posts[df_posts['message'].str.contains(' AF') | df_posts['message'].str.startswith('AF')][['from_name', 'message', 'created_time']].shape"
   ]
  },
  {
   "cell_type": "code",
   "execution_count": null,
   "metadata": {
    "scrolled": true
   },
   "outputs": [],
   "source": [
    "df_posts[df_posts['message'].str.contains('AF')][['from_name', 'message', 'created_time']]"
   ]
  },
  {
   "cell_type": "code",
   "execution_count": null,
   "metadata": {},
   "outputs": [],
   "source": [
    "df_posts[df_posts['message'].str.contains(' AF')][['from_name', 'message', 'created_time']].shape"
   ]
  },
  {
   "cell_type": "code",
   "execution_count": null,
   "metadata": {
    "scrolled": true
   },
   "outputs": [],
   "source": [
    "df_posts[df_posts['message'].str.contains('AF') & ~df_posts['message'].str.contains(' AF')][['from_name', 'message', 'created_time']]"
   ]
  },
  {
   "cell_type": "code",
   "execution_count": null,
   "metadata": {
    "scrolled": true
   },
   "outputs": [],
   "source": [
    "# sanity check že ' AF' pokryje všechny výskyty zkratky animefestu\n",
    "df_posts[df_posts['message'].str.contains('AF') & ~df_posts['message'].str.contains(' AF')]['message'].tolist()"
   ]
  },
  {
   "cell_type": "code",
   "execution_count": null,
   "metadata": {
    "scrolled": true
   },
   "outputs": [],
   "source": [
    "# sanity check že ' AF' pokryje všechny výskyty zkratky animefestu\n",
    "df_posts[df_posts['message'].str.contains('af', case=False) & ~df_posts['message'].str.contains(' af', case=False)]['message'].tolist()"
   ]
  },
  {
   "cell_type": "code",
   "execution_count": null,
   "metadata": {
    "scrolled": true
   },
   "outputs": [],
   "source": [
    "# sanity check že ' AF' pokryje všechny výskyty zkratky animefestu\n",
    "mess_str = df_posts['message'].str\n",
    "af_filter_2 = mess_str.contains(' af', case=False) | mess_str.startswith('af')\n",
    "df_posts[af_filter_2]['message'].tolist()"
   ]
  },
  {
   "cell_type": "code",
   "execution_count": null,
   "metadata": {
    "scrolled": true
   },
   "outputs": [],
   "source": [
    "# sanity check že ' AF' pokryje všechny výskyty zkratky animefestu\n",
    "af_filter_3 = mess_str.contains(' af ', case=False) | mess_str.contains(' AF') | mess_str.contains(' afk', case=False)  | mess_str.startswith('AF') | mess_str.endswith('AF')\n",
    "df_posts[af_filter_3]['message'].tolist()"
   ]
  },
  {
   "cell_type": "code",
   "execution_count": null,
   "metadata": {
    "scrolled": true
   },
   "outputs": [],
   "source": [
    "df_posts[af_filter_2 & ~af_filter_3]['message'].tolist()"
   ]
  },
  {
   "cell_type": "code",
   "execution_count": null,
   "metadata": {},
   "outputs": [],
   "source": [
    "df_posts[mess_str.contains(' afk', case=False)]['message'].tolist()"
   ]
  },
  {
   "cell_type": "code",
   "execution_count": null,
   "metadata": {},
   "outputs": [],
   "source": []
  }
 ],
 "metadata": {
  "kernelspec": {
   "display_name": "Python 3",
   "language": "python",
   "name": "python3"
  },
  "language_info": {
   "codemirror_mode": {
    "name": "ipython",
    "version": 3
   },
   "file_extension": ".py",
   "mimetype": "text/x-python",
   "name": "python",
   "nbconvert_exporter": "python",
   "pygments_lexer": "ipython3",
   "version": "3.6.8"
  }
 },
 "nbformat": 4,
 "nbformat_minor": 2
}
